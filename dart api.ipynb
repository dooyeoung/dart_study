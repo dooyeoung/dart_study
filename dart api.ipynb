{
 "cells": [
  {
   "cell_type": "code",
   "execution_count": 41,
   "metadata": {
    "ExecuteTime": {
     "end_time": "2020-10-27T06:54:32.879922Z",
     "start_time": "2020-10-27T06:54:32.877230Z"
    }
   },
   "outputs": [],
   "source": [
    "import requests\n",
    "from io import BytesIO\n",
    "from zipfile import ZipFile\n",
    "from bs4 import BeautifulSoup\n",
    "from tqdm import tqdm_notebook"
   ]
  },
  {
   "cell_type": "code",
   "execution_count": 3,
   "metadata": {
    "ExecuteTime": {
     "end_time": "2020-10-27T06:40:24.738478Z",
     "start_time": "2020-10-27T06:40:24.736338Z"
    }
   },
   "outputs": [],
   "source": [
    "api_key='84999fdf0b1ef796f290f1352b3cc91f43b5c2ea'"
   ]
  },
  {
   "cell_type": "code",
   "execution_count": 39,
   "metadata": {
    "ExecuteTime": {
     "end_time": "2020-10-27T06:53:59.065744Z",
     "start_time": "2020-10-27T06:53:59.060606Z"
    }
   },
   "outputs": [],
   "source": [
    "def getAllCorpList():\n",
    "    req = requests.get('https://opendart.fss.or.kr/api/corpCode.xml?crtfc_key={}'.format(api_key))\n",
    "    zfile= ZipFile(BytesIO(req.content))\n",
    "    files = zfile.namelist()\n",
    "\n",
    "    with zfile.open(files[0]) as csvfile:\n",
    "        soup = BeautifulSoup(csvfile.read(), 'lxml')\n",
    "        data_li = soup.findAll('list')\n",
    "\n",
    "        corp_li = []\n",
    "        for corp in data_li:\n",
    "            corp_li.append({'corp_code':corp.corp_code.text,\n",
    "            'corp_name':corp.corp_name.text,\n",
    "            'stock_code':corp.stock_code.text ,   \n",
    "            'modify_date':corp.modify_date.text })\n",
    "            \n",
    "    return corp_li"
   ]
  },
  {
   "cell_type": "code",
   "execution_count": 40,
   "metadata": {
    "ExecuteTime": {
     "end_time": "2020-10-27T06:54:27.023765Z",
     "start_time": "2020-10-27T06:54:09.093850Z"
    }
   },
   "outputs": [],
   "source": [
    "corp_li = getAllCorpList()"
   ]
  },
  {
   "cell_type": "code",
   "execution_count": 44,
   "metadata": {
    "ExecuteTime": {
     "end_time": "2020-10-27T06:55:06.481460Z",
     "start_time": "2020-10-27T06:55:06.472574Z"
    }
   },
   "outputs": [
    {
     "ename": "AttributeError",
     "evalue": "'list' object has no attribute 'find'",
     "output_type": "error",
     "traceback": [
      "\u001b[0;31m---------------------------------------------------------------------------\u001b[0m",
      "\u001b[0;31mAttributeError\u001b[0m                            Traceback (most recent call last)",
      "\u001b[0;32m<ipython-input-44-a54357a56514>\u001b[0m in \u001b[0;36m<module>\u001b[0;34m\u001b[0m\n\u001b[0;32m----> 1\u001b[0;31m \u001b[0mcorp_li\u001b[0m\u001b[0;34m.\u001b[0m\u001b[0mfind\u001b[0m\u001b[0;34m(\u001b[0m\u001b[0;34m)\u001b[0m\u001b[0;34m\u001b[0m\u001b[0;34m\u001b[0m\u001b[0m\n\u001b[0m",
      "\u001b[0;31mAttributeError\u001b[0m: 'list' object has no attribute 'find'"
     ]
    }
   ],
   "source": [
    "filter(lambda x: x['corp_li, "
   ]
  },
  {
   "cell_type": "code",
   "execution_count": null,
   "metadata": {},
   "outputs": [],
   "source": []
  }
 ],
 "metadata": {
  "hide_input": false,
  "kernelspec": {
   "display_name": "Python 3",
   "language": "python",
   "name": "python3"
  },
  "language_info": {
   "codemirror_mode": {
    "name": "ipython",
    "version": 3
   },
   "file_extension": ".py",
   "mimetype": "text/x-python",
   "name": "python",
   "nbconvert_exporter": "python",
   "pygments_lexer": "ipython3",
   "version": "3.7.4"
  },
  "toc": {
   "base_numbering": 1,
   "nav_menu": {},
   "number_sections": true,
   "sideBar": true,
   "skip_h1_title": false,
   "title_cell": "Table of Contents",
   "title_sidebar": "Contents",
   "toc_cell": false,
   "toc_position": {},
   "toc_section_display": true,
   "toc_window_display": false
  }
 },
 "nbformat": 4,
 "nbformat_minor": 2
}
